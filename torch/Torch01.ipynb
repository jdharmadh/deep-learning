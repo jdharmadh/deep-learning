{
  "nbformat": 4,
  "nbformat_minor": 0,
  "metadata": {
    "colab": {
      "provenance": [],
      "gpuType": "T4"
    },
    "kernelspec": {
      "name": "python3",
      "display_name": "Python 3"
    },
    "language_info": {
      "name": "python"
    },
    "accelerator": "GPU"
  },
  "cells": [
    {
      "cell_type": "code",
      "execution_count": null,
      "metadata": {
        "id": "4_YUNfgWfPYj",
        "colab": {
          "base_uri": "https://localhost:8080/",
          "height": 35
        },
        "outputId": "8d122145-7baa-4946-f950-45d1fb0bb9fb"
      },
      "outputs": [
        {
          "output_type": "execute_result",
          "data": {
            "text/plain": [
              "'2.6.0+cu124'"
            ],
            "application/vnd.google.colaboratory.intrinsic+json": {
              "type": "string"
            }
          },
          "metadata": {},
          "execution_count": 71
        }
      ],
      "source": [
        "import torch\n",
        "from torch import nn\n",
        "import matplotlib.pyplot as plt\n",
        "torch.__version__"
      ]
    },
    {
      "cell_type": "code",
      "source": [
        "# create known parameters to test linear regression\n",
        "weight = 0.6\n",
        "bias = 0.2\n",
        "\n",
        "#Make the data\n",
        "start = 0\n",
        "end = 1\n",
        "step = 0.02\n",
        "X = torch.arange(start, end, step).unsqueeze(dim=1)\n",
        "y = weight * X + bias\n",
        "X[:5], y[:5]"
      ],
      "metadata": {
        "colab": {
          "base_uri": "https://localhost:8080/"
        },
        "id": "bTUanbiuiHZw",
        "outputId": "534028a0-bddd-4efc-a3a0-521c52a2bff6"
      },
      "execution_count": null,
      "outputs": [
        {
          "output_type": "execute_result",
          "data": {
            "text/plain": [
              "(tensor([[0.0000],\n",
              "         [0.0200],\n",
              "         [0.0400],\n",
              "         [0.0600],\n",
              "         [0.0800]]),\n",
              " tensor([[0.2000],\n",
              "         [0.2120],\n",
              "         [0.2240],\n",
              "         [0.2360],\n",
              "         [0.2480]]))"
            ]
          },
          "metadata": {},
          "execution_count": 26
        }
      ]
    },
    {
      "cell_type": "code",
      "source": [
        "train_split = int(0.8 * len(X))\n",
        "X_train, y_train = X[:train_split], y[:train_split]\n",
        "X_test, y_test = X[train_split:], y[train_split:]\n",
        "len(X_train)"
      ],
      "metadata": {
        "colab": {
          "base_uri": "https://localhost:8080/"
        },
        "id": "pLzRKKOQiyOx",
        "outputId": "0c96ea65-5563-47a8-eca8-9a080e16de9d"
      },
      "execution_count": null,
      "outputs": [
        {
          "output_type": "execute_result",
          "data": {
            "text/plain": [
              "40"
            ]
          },
          "metadata": {},
          "execution_count": 6
        }
      ]
    },
    {
      "cell_type": "code",
      "source": [
        "def plot_predictions(train_data=X_train,\n",
        "                     train_labels=y_train,\n",
        "                     test_data=X_test,\n",
        "                     test_labels=y_test,\n",
        "                     predictions=None):\n",
        "  \"\"\"\n",
        "  Plots training data, test data and compares predictions.\n",
        "  \"\"\"\n",
        "  plt.figure(figsize=(10, 7))\n",
        "\n",
        "  # Plot training data in blue\n",
        "  plt.scatter(train_data, train_labels, c=\"b\", s=4, label=\"Training data\")\n",
        "\n",
        "  # Plot test data in green\n",
        "  plt.scatter(test_data, test_labels, c=\"g\", s=4, label=\"Testing data\")\n",
        "\n",
        "  if predictions is not None:\n",
        "    # Plot the predictions in red (predictions were made on the test data)\n",
        "    plt.scatter(test_data, predictions, c=\"r\", s=4, label=\"Predictions\")\n",
        "\n",
        "  # Show the legend\n",
        "  plt.legend(prop={\"size\": 14});"
      ],
      "metadata": {
        "id": "ea5OvO0hjBlx"
      },
      "execution_count": null,
      "outputs": []
    },
    {
      "cell_type": "code",
      "source": [
        "plot_predictions()"
      ],
      "metadata": {
        "colab": {
          "base_uri": "https://localhost:8080/",
          "height": 522
        },
        "id": "m-NbvvYpjqFz",
        "outputId": "80dbd66f-96ee-4441-f4ea-27300ca5a495"
      },
      "execution_count": null,
      "outputs": [
        {
          "output_type": "display_data",
          "data": {
            "text/plain": [
              "<Figure size 800x600 with 1 Axes>"
            ],
            "image/png": "[encoded data removed]"
          },
          "metadata": {}
        }
      ]
    },
    {
      "cell_type": "code",
      "source": [
        "class LinearRegressionModel(nn.Module):\n",
        "  def __init__(self):\n",
        "    super().__init__()\n",
        "    self.weights = nn.Parameter(torch.randn(1, dtype=torch.float, requires_grad=True))\n",
        "    self.bias = nn.Parameter(torch.randn(1, dtype=torch.float, requires_grad=True))\n",
        "  def forward(self, x: torch.Tensor) -> torch.Tensor:\n",
        "    return self.weights * x + self.bias"
      ],
      "metadata": {
        "id": "e2k_ryzwki34"
      },
      "execution_count": null,
      "outputs": []
    },
    {
      "cell_type": "code",
      "source": [
        "torch.manual_seed(42)\n",
        "model_0 = LinearRegressionModel()\n",
        "model_0.state_dict()"
      ],
      "metadata": {
        "colab": {
          "base_uri": "https://localhost:8080/"
        },
        "id": "jfKT-gevlwZl",
        "outputId": "fdb6982a-8e79-4001-bc0d-16e399682a3d"
      },
      "execution_count": null,
      "outputs": [
        {
          "output_type": "execute_result",
          "data": {
            "text/plain": [
              "OrderedDict([('weights', tensor([0.3367])), ('bias', tensor([0.1288]))])"
            ]
          },
          "metadata": {},
          "execution_count": 30
        }
      ]
    },
    {
      "cell_type": "code",
      "source": [
        "with torch.inference_mode():\n",
        "  y_preds = model_0(X_test)\n",
        "# Check the predictions\n",
        "print(f\"Number of testing samples: {len(X_test)}\")\n",
        "print(f\"Number of predictions made: {len(y_preds)}\")\n",
        "print(f\"Predicted values:\\n{y_preds}\")"
      ],
      "metadata": {
        "colab": {
          "base_uri": "https://localhost:8080/"
        },
        "id": "R1oCwaVUmCZ8",
        "outputId": "295c89a1-46fd-4f99-a9eb-da1468a5004a"
      },
      "execution_count": null,
      "outputs": [
        {
          "output_type": "stream",
          "name": "stdout",
          "text": [
            "Number of testing samples: 10\n",
            "Number of predictions made: 10\n",
            "Predicted values:\n",
            "tensor([[0.3982],\n",
            "        [0.4049],\n",
            "        [0.4116],\n",
            "        [0.4184],\n",
            "        [0.4251],\n",
            "        [0.4318],\n",
            "        [0.4386],\n",
            "        [0.4453],\n",
            "        [0.4520],\n",
            "        [0.4588]])\n"
          ]
        }
      ]
    },
    {
      "cell_type": "code",
      "source": [
        "plot_predictions(predictions=y_preds)"
      ],
      "metadata": {
        "colab": {
          "base_uri": "https://localhost:8080/",
          "height": 599
        },
        "id": "rnrNDotGmYEk",
        "outputId": "e283b63a-f863-4833-dadf-c1041f585a3c"
      },
      "execution_count": null,
      "outputs": [
        {
          "output_type": "display_data",
          "data": {
            "text/plain": [
              "<Figure size 1000x700 with 1 Axes>"
            ],
            "image/png": "[encoded data removed]"
          },
          "metadata": {}
        }
      ]
    },
    {
      "cell_type": "code",
      "source": [
        "y_test - y_preds"
      ],
      "metadata": {
        "colab": {
          "base_uri": "https://localhost:8080/"
        },
        "id": "zenVkED3mkzz",
        "outputId": "b7fe05e1-d802-4c2c-b35c-c23cffdabe9b"
      },
      "execution_count": null,
      "outputs": [
        {
          "output_type": "execute_result",
          "data": {
            "text/plain": [
              "tensor([[0.2818],\n",
              "        [0.2871],\n",
              "        [0.2924],\n",
              "        [0.2976],\n",
              "        [0.3029],\n",
              "        [0.3082],\n",
              "        [0.3134],\n",
              "        [0.3187],\n",
              "        [0.3240],\n",
              "        [0.3292]])"
            ]
          },
          "metadata": {},
          "execution_count": 35
        }
      ]
    },
    {
      "cell_type": "code",
      "source": [
        "loss_fn = nn.L1Loss()\n",
        "\n",
        "optimizer = torch.optim.SGD(params=model_0.parameters(), lr=0.01)"
      ],
      "metadata": {
        "id": "o1C4_1FRnB1x"
      },
      "execution_count": null,
      "outputs": []
    },
    {
      "cell_type": "code",
      "source": [
        "epochs = 200\n",
        "\n",
        "#Create the lists of losses to plot later\n",
        "train_loss_values = []\n",
        "test_loss_values = []\n",
        "epoch_count = []\n",
        "\n",
        "for epoch in range(epochs):\n",
        "  ### Train it\n",
        "  model_0.train()\n",
        "  y_pred = model_0(X_train)\n",
        "\n",
        "  # Calculate the training loss\n",
        "  loss = loss_fn(y_pred, y_train)\n",
        "\n",
        "  # Zero the gradient of the optimizer\n",
        "  optimizer.zero_grad()\n",
        "\n",
        "  # loss backwards\n",
        "  loss.backward()\n",
        "\n",
        "  optimizer.step()\n",
        "\n",
        "  model_0.eval()\n",
        "\n",
        "  with torch.inference_mode():\n",
        "    test_pred = model_0(X_test)\n",
        "\n",
        "    test_loss = loss_fn(test_pred, y_test.type(torch.float))\n",
        "\n",
        "    if epoch % 20 == 0:\n",
        "      epoch_count.append(epoch)\n",
        "      train_loss_values.append(loss.detach().numpy())\n",
        "      test_loss_values.append(test_loss.detach().numpy())\n",
        "      print(f\"Epoch: {epoch} | MAE Train Loss: {loss} | MAE Test Loss: {test_loss} \")\n"
      ],
      "metadata": {
        "colab": {
          "base_uri": "https://localhost:8080/"
        },
        "id": "BNxMWQlTnevM",
        "outputId": "a13915c4-3220-410d-a34d-df9ba28c5523"
      },
      "execution_count": null,
      "outputs": [
        {
          "output_type": "stream",
          "name": "stdout",
          "text": [
            "Epoch: 0 | MAE Train Loss: 0.01018423680216074 | MAE Test Loss: 0.023353051394224167 \n",
            "Epoch: 20 | MAE Train Loss: 0.0033175654243677855 | MAE Test Loss: 0.006808096077293158 \n",
            "Epoch: 40 | MAE Train Loss: 0.00654077623039484 | MAE Test Loss: 0.003275567200034857 \n",
            "Epoch: 60 | MAE Train Loss: 0.00654077623039484 | MAE Test Loss: 0.003275567200034857 \n",
            "Epoch: 80 | MAE Train Loss: 0.00654077623039484 | MAE Test Loss: 0.003275567200034857 \n",
            "Epoch: 100 | MAE Train Loss: 0.00654077623039484 | MAE Test Loss: 0.003275567200034857 \n",
            "Epoch: 120 | MAE Train Loss: 0.00654077623039484 | MAE Test Loss: 0.003275567200034857 \n",
            "Epoch: 140 | MAE Train Loss: 0.00654077623039484 | MAE Test Loss: 0.003275567200034857 \n",
            "Epoch: 160 | MAE Train Loss: 0.00654077623039484 | MAE Test Loss: 0.003275567200034857 \n",
            "Epoch: 180 | MAE Train Loss: 0.00654077623039484 | MAE Test Loss: 0.003275567200034857 \n"
          ]
        }
      ]
    },
    {
      "cell_type": "code",
      "source": [
        "# Plot the loss curves\n",
        "plt.plot(epoch_count, train_loss_values, label=\"Train loss\")\n",
        "plt.plot(epoch_count, test_loss_values, label=\"Test loss\")\n",
        "plt.title(\"Training and test loss curves\")\n",
        "plt.ylabel(\"Loss\")\n",
        "plt.xlabel(\"Epochs\")\n",
        "plt.legend();"
      ],
      "metadata": {
        "colab": {
          "base_uri": "https://localhost:8080/",
          "height": 472
        },
        "id": "Ge1DnUcgr__d",
        "outputId": "ca518c10-1c94-480a-b145-14e0613cbc86"
      },
      "execution_count": null,
      "outputs": [
        {
          "output_type": "display_data",
          "data": {
            "text/plain": [
              "<Figure size 640x480 with 1 Axes>"
            ],
            "image/png": "[encoded data removed]"
          },
          "metadata": {}
        }
      ]
    },
    {
      "cell_type": "code",
      "source": [
        "# Find our model's learned parameters\n",
        "print(\"The model learned the following values for weights and bias:\")\n",
        "print(model_0.state_dict())\n",
        "print(\"\\nAnd the original values for weights and bias are:\")\n",
        "print(f\"weights: {weight}, bias: {bias}\")"
      ],
      "metadata": {
        "colab": {
          "base_uri": "https://localhost:8080/"
        },
        "id": "s6TDkNjPsH6x",
        "outputId": "3f5e73b6-09f4-459a-94e9-6de34b4d1c2c"
      },
      "execution_count": null,
      "outputs": [
        {
          "output_type": "stream",
          "name": "stdout",
          "text": [
            "The model learned the following values for weights and bias:\n",
            "OrderedDict([('weights', tensor([0.5927])), ('bias', tensor([0.1963]))])\n",
            "\n",
            "And the original values for weights and bias are:\n",
            "weights: 0.6, bias: 0.2\n"
          ]
        }
      ]
    },
    {
      "cell_type": "code",
      "source": [
        "model_0.eval()\n",
        "\n",
        "with torch.inference_mode():\n",
        "  y_preds = model_0(X_test)\n",
        "y_preds"
      ],
      "metadata": {
        "colab": {
          "base_uri": "https://localhost:8080/"
        },
        "id": "L6wWvzUFsWJI",
        "outputId": "335bd6db-8aca-4d14-d329-3940d3342142"
      },
      "execution_count": null,
      "outputs": [
        {
          "output_type": "execute_result",
          "data": {
            "text/plain": [
              "tensor([[0.6705],\n",
              "        [0.6823],\n",
              "        [0.6942],\n",
              "        [0.7060],\n",
              "        [0.7179],\n",
              "        [0.7297],\n",
              "        [0.7416],\n",
              "        [0.7534],\n",
              "        [0.7653],\n",
              "        [0.7771]])"
            ]
          },
          "metadata": {},
          "execution_count": 44
        }
      ]
    },
    {
      "cell_type": "code",
      "source": [
        "model_0.state_dict()"
      ],
      "metadata": {
        "colab": {
          "base_uri": "https://localhost:8080/"
        },
        "id": "BHSOm0jKskOp",
        "outputId": "fed6c7ab-c766-4d55-fc3c-d0690a28e450"
      },
      "execution_count": null,
      "outputs": [
        {
          "output_type": "execute_result",
          "data": {
            "text/plain": [
              "OrderedDict([('weights', tensor([0.5927])), ('bias', tensor([0.1963]))])"
            ]
          },
          "metadata": {},
          "execution_count": 47
        }
      ]
    },
    {
      "cell_type": "code",
      "source": [
        "# PyTorch inference rules!\n",
        "\n",
        "#1. Put the model into evaluation mode\n",
        "model_0.eval()\n",
        "\n",
        "# Use the inference mode context manager to make predictions\n",
        "with torch.inference_mode():\n",
        "  model_preds = model_0(X_test)\n",
        "\n",
        "y_preds == model_preds"
      ],
      "metadata": {
        "colab": {
          "base_uri": "https://localhost:8080/"
        },
        "id": "Kj5pO-XFt5Gd",
        "outputId": "76d63ed3-4f78-4ec1-bb9e-811d4faed0af"
      },
      "execution_count": null,
      "outputs": [
        {
          "output_type": "execute_result",
          "data": {
            "text/plain": [
              "tensor([[True],\n",
              "        [True],\n",
              "        [True],\n",
              "        [True],\n",
              "        [True],\n",
              "        [True],\n",
              "        [True],\n",
              "        [True],\n",
              "        [True],\n",
              "        [True]])"
            ]
          },
          "metadata": {},
          "execution_count": 48
        }
      ]
    },
    {
      "cell_type": "code",
      "source": [
        "# Setup device agnostic code\n",
        "device = \"cuda\" if torch.cuda.is_available() else \"cpu\"\n",
        "print(f\"Using device: {device}\")"
      ],
      "metadata": {
        "colab": {
          "base_uri": "https://localhost:8080/"
        },
        "id": "OCoshaKruSpn",
        "outputId": "39629fa6-23d1-40b2-95a8-197846f0c70e"
      },
      "execution_count": null,
      "outputs": [
        {
          "output_type": "stream",
          "name": "stdout",
          "text": [
            "Using device: cuda\n"
          ]
        }
      ]
    },
    {
      "cell_type": "code",
      "source": [
        "# Create weight and bias\n",
        "weight = 0.7\n",
        "bias = 0.3\n",
        "\n",
        "# Create range values\n",
        "start = 0\n",
        "end = 1\n",
        "step = 0.02\n",
        "\n",
        "# Create X and y (features and labels)\n",
        "X = torch.arange(start, end, step).unsqueeze(dim=1) # without unsqueeze, errors will happen later on (shapes within linear layers)\n",
        "y = weight * X + bias\n",
        "X[:10], y[:10]"
      ],
      "metadata": {
        "colab": {
          "base_uri": "https://localhost:8080/"
        },
        "id": "4VyBG7S2uY-z",
        "outputId": "929eb60d-672e-42e0-849f-64c106125eeb"
      },
      "execution_count": null,
      "outputs": [
        {
          "output_type": "execute_result",
          "data": {
            "text/plain": [
              "(tensor([[0.0000],\n",
              "         [0.0200],\n",
              "         [0.0400],\n",
              "         [0.0600],\n",
              "         [0.0800],\n",
              "         [0.1000],\n",
              "         [0.1200],\n",
              "         [0.1400],\n",
              "         [0.1600],\n",
              "         [0.1800]]),\n",
              " tensor([[0.3000],\n",
              "         [0.3140],\n",
              "         [0.3280],\n",
              "         [0.3420],\n",
              "         [0.3560],\n",
              "         [0.3700],\n",
              "         [0.3840],\n",
              "         [0.3980],\n",
              "         [0.4120],\n",
              "         [0.4260]]))"
            ]
          },
          "metadata": {},
          "execution_count": 50
        }
      ]
    },
    {
      "cell_type": "code",
      "source": [
        "# Split data\n",
        "train_split = int(0.8 * len(X))\n",
        "X_train, y_train = X[:train_split], y[:train_split]\n",
        "X_test, y_test = X[train_split:], y[train_split:]\n",
        "\n",
        "len(X_train), len(y_train), len(X_test), len(y_test)"
      ],
      "metadata": {
        "colab": {
          "base_uri": "https://localhost:8080/"
        },
        "id": "3dOEF4ZAubjL",
        "outputId": "3ed32297-c273-4336-b3bb-8ebfdeeb3ffb"
      },
      "execution_count": null,
      "outputs": [
        {
          "output_type": "execute_result",
          "data": {
            "text/plain": [
              "(40, 40, 10, 10)"
            ]
          },
          "metadata": {},
          "execution_count": 51
        }
      ]
    },
    {
      "cell_type": "code",
      "source": [
        "plot_predictions(X_train, y_train, X_test, y_test)"
      ],
      "metadata": {
        "colab": {
          "base_uri": "https://localhost:8080/",
          "height": 599
        },
        "id": "LgIhq8tjuflv",
        "outputId": "72d821e3-adc6-438c-dd49-d23e17676255"
      },
      "execution_count": null,
      "outputs": [
        {
          "output_type": "display_data",
          "data": {
            "text/plain": [
              "<Figure size 1000x700 with 1 Axes>"
            ],
            "image/png": "[encoded data removed]"
          },
          "metadata": {}
        }
      ]
    },
    {
      "cell_type": "code",
      "source": [
        "class LinearRegressionModelV2(nn.Module):\n",
        "  def __init__(self):\n",
        "    super().__init__()\n",
        "    self.linear_layer = nn.Linear(in_features=1, out_features=1)\n",
        "  def forward(self, x: torch.Tensor) -> torch.Tensor:\n",
        "    return self.linear_layer(x)\n",
        "model_1 = LinearRegressionModelV2()\n",
        "model_1, model_1.state_dict()"
      ],
      "metadata": {
        "colab": {
          "base_uri": "https://localhost:8080/"
        },
        "id": "2ODvMgnfuhgl",
        "outputId": "ce80a931-f97a-478d-873b-f2817b6fdade"
      },
      "execution_count": null,
      "outputs": [
        {
          "output_type": "execute_result",
          "data": {
            "text/plain": [
              "(LinearRegressionModelV2(\n",
              "   (linear_layer): Linear(in_features=1, out_features=1, bias=True)\n",
              " ),\n",
              " OrderedDict([('linear_layer.weight', tensor([[-0.2191]])),\n",
              "              ('linear_layer.bias', tensor([0.2018]))]))"
            ]
          },
          "metadata": {},
          "execution_count": 57
        }
      ]
    },
    {
      "cell_type": "code",
      "source": [
        "# Check model device\n",
        "next(model_1.parameters()).device\n",
        "# Set model to GPU if it's available, otherwise it'll default to CPU\n",
        "model_1.to(device) # the device variable was set above to be \"cuda\" if available or \"cpu\" if not\n",
        "next(model_1.parameters()).device"
      ],
      "metadata": {
        "colab": {
          "base_uri": "https://localhost:8080/"
        },
        "id": "KTfb6E7yvDvy",
        "outputId": "2b0e2b98-7815-4631-c213-bbe82d74d479"
      },
      "execution_count": null,
      "outputs": [
        {
          "output_type": "execute_result",
          "data": {
            "text/plain": [
              "device(type='cuda', index=0)"
            ]
          },
          "metadata": {},
          "execution_count": 59
        }
      ]
    },
    {
      "cell_type": "code",
      "source": [
        "# Create loss function\n",
        "loss_fn = nn.L1Loss()\n",
        "\n",
        "# Create optimizer\n",
        "optimizer = torch.optim.SGD(params=model_1.parameters(), # optimize newly created model's parameters\n",
        "                            lr=0.01)"
      ],
      "metadata": {
        "id": "psKCthe9vYFd"
      },
      "execution_count": null,
      "outputs": []
    },
    {
      "cell_type": "code",
      "source": [
        "epochs = 1000\n",
        "X_train = X_train.to(device)\n",
        "X_test = X_test.to(device)\n",
        "y_train = y_train.to(device)\n",
        "y_test = y_test.to(device)\n",
        "\n",
        "for epoch in range(epochs):\n",
        "  ### Train\n",
        "  model_1.train()\n",
        "\n",
        "  train_preds = model_1(X_train)\n",
        "\n",
        "  optimizer.zero_grad()\n",
        "\n",
        "  loss = loss_fn(train_preds, y_train)\n",
        "\n",
        "  loss.backward()\n",
        "\n",
        "  optimizer.step()\n",
        "\n",
        "  model_1.eval()\n",
        "\n",
        "  with torch.inference_mode():\n",
        "    test_pred = model_1(X_test)\n",
        "\n",
        "    test_loss = loss_fn(test_pred, y_test)\n",
        "\n",
        "    if epoch % 100 == 0:\n",
        "        print(f\"Epoch: {epoch} | Train loss: {loss} | Test loss: {test_loss}\")\n",
        "\n"
      ],
      "metadata": {
        "colab": {
          "base_uri": "https://localhost:8080/"
        },
        "id": "ejXiqGzTvnL_",
        "outputId": "a1141ab9-24ee-40b7-f7aa-7a7caa914c3d"
      },
      "execution_count": null,
      "outputs": [
        {
          "output_type": "stream",
          "name": "stdout",
          "text": [
            "Epoch: 0 | Train loss: 0.4566597044467926 | Test loss: 0.902740478515625\n",
            "Epoch: 100 | Train loss: 0.1262269765138626 | Test loss: 0.3064868450164795\n",
            "Epoch: 200 | Train loss: 0.09164690971374512 | Test loss: 0.2134605497121811\n",
            "Epoch: 300 | Train loss: 0.057300865650177 | Test loss: 0.1334826797246933\n",
            "Epoch: 400 | Train loss: 0.02296038530766964 | Test loss: 0.05281791836023331\n",
            "Epoch: 500 | Train loss: 0.0034435198176652193 | Test loss: 0.007161492016166449\n",
            "Epoch: 600 | Train loss: 0.0034435198176652193 | Test loss: 0.007161492016166449\n",
            "Epoch: 700 | Train loss: 0.0034435198176652193 | Test loss: 0.007161492016166449\n",
            "Epoch: 800 | Train loss: 0.0034435198176652193 | Test loss: 0.007161492016166449\n",
            "Epoch: 900 | Train loss: 0.0034435198176652193 | Test loss: 0.007161492016166449\n"
          ]
        }
      ]
    },
    {
      "cell_type": "code",
      "source": [
        "# Find our model's learned parameters\n",
        "from pprint import pprint # pprint = pretty print, see: https://docs.python.org/3/library/pprint.html\n",
        "print(\"The model learned the following values for weights and bias:\")\n",
        "pprint(model_1.state_dict())\n",
        "print(\"\\nAnd the original values for weights and bias are:\")\n",
        "print(f\"weights: {weight}, bias: {bias}\")"
      ],
      "metadata": {
        "colab": {
          "base_uri": "https://localhost:8080/"
        },
        "id": "tBJ8XTxbw7_l",
        "outputId": "b99166e6-5067-4c61-f7b9-e48cae933b2d"
      },
      "execution_count": null,
      "outputs": [
        {
          "output_type": "stream",
          "name": "stdout",
          "text": [
            "The model learned the following values for weights and bias:\n",
            "OrderedDict([('linear_layer.weight', tensor([[0.6943]], device='cuda:0')),\n",
            "             ('linear_layer.bias', tensor([0.2988], device='cuda:0'))])\n",
            "\n",
            "And the original values for weights and bias are:\n",
            "weights: 0.7, bias: 0.3\n"
          ]
        }
      ]
    },
    {
      "cell_type": "code",
      "source": [
        "# Turn model into evaluation mode\n",
        "model_1.eval()\n",
        "\n",
        "# Make predictions on the test data\n",
        "with torch.inference_mode():\n",
        "    y_preds = model_1(X_test)\n",
        "y_preds"
      ],
      "metadata": {
        "colab": {
          "base_uri": "https://localhost:8080/"
        },
        "id": "5y54gUtExC8k",
        "outputId": "c1984552-64b7-4142-d968-de58270723b3"
      },
      "execution_count": null,
      "outputs": [
        {
          "output_type": "execute_result",
          "data": {
            "text/plain": [
              "tensor([[0.8542],\n",
              "        [0.8681],\n",
              "        [0.8820],\n",
              "        [0.8959],\n",
              "        [0.9097],\n",
              "        [0.9236],\n",
              "        [0.9375],\n",
              "        [0.9514],\n",
              "        [0.9653],\n",
              "        [0.9792]], device='cuda:0')"
            ]
          },
          "metadata": {},
          "execution_count": 64
        }
      ]
    },
    {
      "cell_type": "code",
      "source": [
        "# plot_predictions(predictions=y_preds) # -> won't work... data not on CPU\n",
        "\n",
        "# Put data on the CPU and plot it\n",
        "# Move all relevant tensors to CPU before plotting\n",
        "plot_predictions(train_data=X_train.cpu(),\n",
        "                 train_labels=y_train.cpu(),\n",
        "                 test_data=X_test.cpu(),\n",
        "                 test_labels=y_test.cpu(),\n",
        "                 predictions=y_preds.cpu())"
      ],
      "metadata": {
        "colab": {
          "base_uri": "https://localhost:8080/",
          "height": 599
        },
        "id": "wCAkLMAIxHXL",
        "outputId": "54bcfd30-217f-4dbf-d5b4-95c5e60e1412"
      },
      "execution_count": null,
      "outputs": [
        {
          "output_type": "display_data",
          "data": {
            "text/plain": [
              "<Figure size 1000x700 with 1 Axes>"
            ],
            "image/png": "[encoded data removed]"
          },
          "metadata": {}
        }
      ]
    },
    {
      "cell_type": "code",
      "source": [
        "weight = 0.3\n",
        "bias = 0.9\n",
        "\n",
        "X = torch.arange(0, 5, 0.02).unsqueeze(dim=1)\n",
        "y = X * weight + bias"
      ],
      "metadata": {
        "id": "5EPH-2j_zRVR"
      },
      "execution_count": null,
      "outputs": []
    },
    {
      "cell_type": "code",
      "source": [
        "train_split = (int) (0.8 * X.shape[0])\n",
        "X_train, y_train = X[:train_split], y[:train_split]\n",
        "X_test, y_test = X[train_split:], y[train_split:]"
      ],
      "metadata": {
        "id": "W8v6vb-72Fec"
      },
      "execution_count": null,
      "outputs": []
    },
    {
      "cell_type": "code",
      "source": [
        "plot_predictions(train_data=X_train.cpu(),\n",
        "                 train_labels=y_train.cpu(),\n",
        "                 test_data=X_test.cpu(),\n",
        "                 test_labels=y_test.cpu())"
      ],
      "metadata": {
        "colab": {
          "base_uri": "https://localhost:8080/",
          "height": 599
        },
        "id": "18OWv5FF2gNf",
        "outputId": "ac405eeb-87a6-4cda-e810-a89bc9118642"
      },
      "execution_count": null,
      "outputs": [
        {
          "output_type": "display_data",
          "data": {
            "text/plain": [
              "<Figure size 1000x700 with 1 Axes>"
            ],
            "image/png": "[encoded data removed]"
          },
          "metadata": {}
        }
      ]
    },
    {
      "cell_type": "code",
      "source": [
        "class LinReg(nn.Module):\n",
        "  def __init__(self):\n",
        "    super().__init__()\n",
        "    self.linear_layer = nn.Linear(in_features=1, out_features=1)\n",
        "  def forward(self, x: torch.Tensor)->torch.Tensor:\n",
        "    return self.linear_layer(x)\n",
        "\n",
        "model_a = LinReg()\n",
        "model_a.state_dict()"
      ],
      "metadata": {
        "colab": {
          "base_uri": "https://localhost:8080/"
        },
        "id": "RFFPJAa02o4-",
        "outputId": "28cfec1b-0685-45d4-d410-e6b2154f733a"
      },
      "execution_count": null,
      "outputs": [
        {
          "output_type": "execute_result",
          "data": {
            "text/plain": [
              "OrderedDict([('linear_layer.weight', tensor([[0.4822]])),\n",
              "             ('linear_layer.bias', tensor([-0.1412]))])"
            ]
          },
          "metadata": {},
          "execution_count": 106
        }
      ]
    },
    {
      "cell_type": "code",
      "source": [
        "loss_fn = nn.L1Loss()\n",
        "optimizer = torch.optim.SGD(model_a.parameters(), lr=0.01)"
      ],
      "metadata": {
        "id": "6j9BUuov3L8J"
      },
      "execution_count": null,
      "outputs": []
    },
    {
      "cell_type": "code",
      "source": [
        "epochs = 300\n",
        "X_train = X_train.to(device)\n",
        "X_test = X_test.to(device)\n",
        "y_train = y_train.to(device)\n",
        "y_test = y_test.to(device)\n",
        "model_a.to(device)\n",
        "\n",
        "for epoch in range(epochs):\n",
        "  model_a.train()\n",
        "\n",
        "  # do the forward pass\n",
        "  train_pred = model_a(X_train)\n",
        "  train_loss = loss_fn(train_pred, y_train)\n",
        "\n",
        "  # zero the grad\n",
        "  optimizer.zero_grad()\n",
        "\n",
        "  #backwards pass\n",
        "  train_loss.backward()\n",
        "  optimizer.step()\n",
        "\n",
        "  if epoch % 20 == 0:\n",
        "    model_a.eval()\n",
        "    with torch.inference_mode():\n",
        "      test_pred = model_a(X_test)\n",
        "      test_loss = loss_fn(test_pred, y_test)\n",
        "      print(f\"Epoch: {epoch} | Train loss: {train_loss} | Test loss: {test_loss}\")\n"
      ],
      "metadata": {
        "colab": {
          "base_uri": "https://localhost:8080/"
        },
        "id": "pvIrGNP23UJX",
        "outputId": "735a280f-4ab5-40ef-89ad-af9dd10a3833"
      },
      "execution_count": null,
      "outputs": [
        {
          "output_type": "stream",
          "name": "stdout",
          "text": [
            "Epoch: 0 | Train loss: 0.6786366701126099 | Test loss: 0.12381534278392792\n",
            "Epoch: 20 | Train loss: 0.3798939287662506 | Test loss: 0.5553961992263794\n",
            "Epoch: 40 | Train loss: 0.34890004992485046 | Test loss: 0.5368748903274536\n",
            "Epoch: 60 | Train loss: 0.31830936670303345 | Test loss: 0.49436357617378235\n",
            "Epoch: 80 | Train loss: 0.2877287268638611 | Test loss: 0.4465675950050354\n",
            "Epoch: 100 | Train loss: 0.25714805722236633 | Test loss: 0.3987715542316437\n",
            "Epoch: 120 | Train loss: 0.22656749188899994 | Test loss: 0.3509754538536072\n",
            "Epoch: 140 | Train loss: 0.19598685204982758 | Test loss: 0.30318111181259155\n",
            "Epoch: 160 | Train loss: 0.16540612280368805 | Test loss: 0.2553867995738983\n",
            "Epoch: 180 | Train loss: 0.13482525944709778 | Test loss: 0.2075928896665573\n",
            "Epoch: 200 | Train loss: 0.1042444035410881 | Test loss: 0.15979894995689392\n",
            "Epoch: 220 | Train loss: 0.07366354018449783 | Test loss: 0.11200502514839172\n",
            "Epoch: 240 | Train loss: 0.04308267682790756 | Test loss: 0.06421110779047012\n",
            "Epoch: 260 | Train loss: 0.014549314975738525 | Test loss: 0.0803752914071083\n",
            "Epoch: 280 | Train loss: 0.006131001748144627 | Test loss: 0.10032966732978821\n"
          ]
        }
      ]
    },
    {
      "cell_type": "code",
      "source": [
        "model_a.eval()\n",
        "with torch.inference_mode():\n",
        "  test_pred = model_a(X_test)\n",
        "  plot_predictions(train_data=X_train.cpu(),\n",
        "                 train_labels=y_train.cpu(),\n",
        "                 test_data=X_test.cpu(),\n",
        "                 test_labels=y_test.cpu(),\n",
        "                 predictions=test_pred.cpu())"
      ],
      "metadata": {
        "colab": {
          "base_uri": "https://localhost:8080/",
          "height": 599
        },
        "id": "9SuYYQGm4mix",
        "outputId": "088a2987-3c98-4ab5-9303-c85dc5175f2b"
      },
      "execution_count": null,
      "outputs": [
        {
          "output_type": "display_data",
          "data": {
            "text/plain": [
              "<Figure size 1000x700 with 1 Axes>"
            ],
            "image/png": "[encoded data removed]"
          },
          "metadata": {}
        }
      ]
    },
    {
      "cell_type": "code",
      "source": [
        "model_a.state_dict()"
      ],
      "metadata": {
        "colab": {
          "base_uri": "https://localhost:8080/"
        },
        "id": "Az1pn2je5TcW",
        "outputId": "fc4d5b5e-35fd-473a-e9eb-3b322e758dd0"
      },
      "execution_count": null,
      "outputs": [
        {
          "output_type": "execute_result",
          "data": {
            "text/plain": [
              "OrderedDict([('linear_layer.weight', tensor([[0.2998]], device='cuda:0')),\n",
              "             ('linear_layer.bias', tensor([0.8900], device='cuda:0'))])"
            ]
          },
          "metadata": {},
          "execution_count": 110
        }
      ]
    }
  ]
}